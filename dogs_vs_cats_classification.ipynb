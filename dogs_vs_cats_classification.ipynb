{
  "nbformat": 4,
  "nbformat_minor": 0,
  "metadata": {
    "colab": {
      "provenance": [],
      "gpuType": "T4",
      "authorship_tag": "ABX9TyNRVpSEhU/gm3szREYnnhvl",
      "include_colab_link": true
    },
    "kernelspec": {
      "name": "python3",
      "display_name": "Python 3"
    },
    "language_info": {
      "name": "python"
    },
    "accelerator": "GPU"
  },
  "cells": [
    {
      "cell_type": "markdown",
      "metadata": {
        "id": "view-in-github",
        "colab_type": "text"
      },
      "source": [
        "<a href=\"https://colab.research.google.com/github/Priyaaa1/dog-vs-cat/blob/main/dogs_vs_cats_classification.ipynb\" target=\"_parent\"><img src=\"https://colab.research.google.com/assets/colab-badge.svg\" alt=\"Open In Colab\"/></a>"
      ]
    },
    {
      "cell_type": "code",
      "source": [
        "!mkdir -p ~/.kaggle\n",
        "!cp kaggle.json ~/.kaggle/"
      ],
      "metadata": {
        "id": "aZmDkXmqcRNO"
      },
      "execution_count": 4,
      "outputs": []
    },
    {
      "cell_type": "code",
      "execution_count": 5,
      "metadata": {
        "id": "r17m_m4Qa_Nm",
        "colab": {
          "base_uri": "https://localhost:8080/"
        },
        "outputId": "25e492dd-750a-4bdf-b655-ec7688416625"
      },
      "outputs": [
        {
          "output_type": "stream",
          "name": "stdout",
          "text": [
            "Warning: Your Kaggle API key is readable by other users on this system! To fix this, you can run 'chmod 600 /root/.kaggle/kaggle.json'\n",
            "Downloading dogs-vs-cats.zip to /content\n",
            "100% 1.06G/1.06G [00:39<00:00, 31.0MB/s]\n",
            "100% 1.06G/1.06G [00:39<00:00, 28.7MB/s]\n"
          ]
        }
      ],
      "source": [
        "!kaggle datasets download -d salader/dogs-vs-cats"
      ]
    },
    {
      "cell_type": "code",
      "source": [
        "import zipfile\n",
        "zip_ref = zipfile.ZipFile('/content/dogs-vs-cats.zip', 'r')\n",
        "zip_ref.extractall('/content')\n",
        "zip_ref.close()"
      ],
      "metadata": {
        "id": "5EdYZv8ecomn"
      },
      "execution_count": 6,
      "outputs": []
    },
    {
      "cell_type": "code",
      "source": [
        "import tensorflow as tf\n",
        "from tensorflow import keras\n",
        "from keras import Sequential\n",
        "from keras.layers import Dense, Conv2D, MaxPooling2D, Flatten"
      ],
      "metadata": {
        "id": "wsYXyN9PdQIo"
      },
      "execution_count": 7,
      "outputs": []
    },
    {
      "cell_type": "code",
      "source": [
        "# generators\n",
        "train_dataset = keras.utils.image_dataset_from_directory(\n",
        "    directory = '/content/train',\n",
        "    labels = 'inferred',\n",
        "    label_mode = 'int',\n",
        "    batch_size = 32,\n",
        "    image_size = (256,256),\n",
        ")\n",
        "validation_dataset = keras.utils.image_dataset_from_directory(\n",
        "    directory = '/content/test',\n",
        "    labels = 'inferred',\n",
        "    label_mode = 'int',\n",
        "    batch_size = 32,\n",
        "    image_size = (256,256),\n",
        ")"
      ],
      "metadata": {
        "colab": {
          "base_uri": "https://localhost:8080/"
        },
        "id": "5wMIpNFMdz1H",
        "outputId": "200555b1-a580-484d-d35a-7cef6552de13"
      },
      "execution_count": 8,
      "outputs": [
        {
          "output_type": "stream",
          "name": "stdout",
          "text": [
            "Found 20000 files belonging to 2 classes.\n",
            "Found 5000 files belonging to 2 classes.\n"
          ]
        }
      ]
    },
    {
      "cell_type": "code",
      "source": [
        "# normalize\n",
        "def process(image, label):\n",
        "  image = tf.cast(image/255., tf.float32)\n",
        "  return image, label\n",
        "\n",
        "train_dataset = train_dataset.map(process)\n",
        "validation_dataset = validation_dataset.map(process)"
      ],
      "metadata": {
        "id": "n7mAdiHXivfk"
      },
      "execution_count": 9,
      "outputs": []
    },
    {
      "cell_type": "code",
      "source": [
        "# Creating CNN Model\n",
        "\n",
        "model = Sequential()\n",
        "\n",
        "model.add(Conv2D(32, kernel_size=(3,3), padding='valid', activation='relu',input_shape=(256,256,3)))\n",
        "model.add(MaxPooling2D(pool_size=(2,2), strides=2, padding='valid'))\n",
        "\n",
        "model.add(Conv2D(32, kernel_size=(3,3), padding='valid', activation='relu',input_shape=(256,256,3)))\n",
        "model.add(MaxPooling2D(pool_size=(2,2), strides=2, padding='valid'))\n",
        "\n",
        "model.add(Conv2D(32, kernel_size=(3,3), padding='valid', activation='relu',input_shape=(256,256,3)))\n",
        "model.add(MaxPooling2D(pool_size=(2,2), strides=2, padding='valid'))\n",
        "\n",
        "model.add(Flatten())\n",
        "\n",
        "model.add(Dense(128, activation='relu'))\n",
        "model.add(Dense(64, activation='relu'))\n",
        "model.add(Dense(1, activation='sigmoid'))"
      ],
      "metadata": {
        "id": "WJD_JJfPnpoI"
      },
      "execution_count": 10,
      "outputs": []
    },
    {
      "cell_type": "code",
      "source": [
        "model.summary()"
      ],
      "metadata": {
        "colab": {
          "base_uri": "https://localhost:8080/"
        },
        "id": "_sGldO0motD3",
        "outputId": "4cff6f81-8dca-4d43-9380-97e5de105462"
      },
      "execution_count": 11,
      "outputs": [
        {
          "output_type": "stream",
          "name": "stdout",
          "text": [
            "Model: \"sequential\"\n",
            "_________________________________________________________________\n",
            " Layer (type)                Output Shape              Param #   \n",
            "=================================================================\n",
            " conv2d (Conv2D)             (None, 254, 254, 32)      896       \n",
            "                                                                 \n",
            " max_pooling2d (MaxPooling2  (None, 127, 127, 32)      0         \n",
            " D)                                                              \n",
            "                                                                 \n",
            " conv2d_1 (Conv2D)           (None, 125, 125, 32)      9248      \n",
            "                                                                 \n",
            " max_pooling2d_1 (MaxPoolin  (None, 62, 62, 32)        0         \n",
            " g2D)                                                            \n",
            "                                                                 \n",
            " conv2d_2 (Conv2D)           (None, 60, 60, 32)        9248      \n",
            "                                                                 \n",
            " max_pooling2d_2 (MaxPoolin  (None, 30, 30, 32)        0         \n",
            " g2D)                                                            \n",
            "                                                                 \n",
            " flatten (Flatten)           (None, 28800)             0         \n",
            "                                                                 \n",
            " dense (Dense)               (None, 128)               3686528   \n",
            "                                                                 \n",
            " dense_1 (Dense)             (None, 64)                8256      \n",
            "                                                                 \n",
            " dense_2 (Dense)             (None, 1)                 65        \n",
            "                                                                 \n",
            "=================================================================\n",
            "Total params: 3714241 (14.17 MB)\n",
            "Trainable params: 3714241 (14.17 MB)\n",
            "Non-trainable params: 0 (0.00 Byte)\n",
            "_________________________________________________________________\n"
          ]
        }
      ]
    },
    {
      "cell_type": "code",
      "source": [
        "model.compile(optimizer='adam', loss='binary_crossentropy', metrics=['accuracy'])"
      ],
      "metadata": {
        "id": "6t6kLkNfo0iX"
      },
      "execution_count": 12,
      "outputs": []
    },
    {
      "cell_type": "code",
      "source": [
        "history = model.fit(train_dataset, epochs=10, validation_data=validation_dataset)"
      ],
      "metadata": {
        "colab": {
          "base_uri": "https://localhost:8080/"
        },
        "id": "AcyX6HbL6lzR",
        "outputId": "3d7a1195-63ed-4df5-f3dc-0cd589f155c5"
      },
      "execution_count": 13,
      "outputs": [
        {
          "output_type": "stream",
          "name": "stdout",
          "text": [
            "Epoch 1/10\n",
            "625/625 [==============================] - 64s 80ms/step - loss: 0.6236 - accuracy: 0.6403 - val_loss: 0.5720 - val_accuracy: 0.7032\n",
            "Epoch 2/10\n",
            "625/625 [==============================] - 50s 80ms/step - loss: 0.4829 - accuracy: 0.7637 - val_loss: 0.4690 - val_accuracy: 0.7750\n",
            "Epoch 3/10\n",
            "625/625 [==============================] - 48s 77ms/step - loss: 0.3987 - accuracy: 0.8144 - val_loss: 0.4573 - val_accuracy: 0.7884\n",
            "Epoch 4/10\n",
            "625/625 [==============================] - 48s 76ms/step - loss: 0.2974 - accuracy: 0.8710 - val_loss: 0.4865 - val_accuracy: 0.7988\n",
            "Epoch 5/10\n",
            "625/625 [==============================] - 54s 86ms/step - loss: 0.1809 - accuracy: 0.9260 - val_loss: 0.6829 - val_accuracy: 0.7724\n",
            "Epoch 6/10\n",
            "625/625 [==============================] - 47s 74ms/step - loss: 0.1047 - accuracy: 0.9605 - val_loss: 0.8949 - val_accuracy: 0.7664\n",
            "Epoch 7/10\n",
            "625/625 [==============================] - 47s 75ms/step - loss: 0.0744 - accuracy: 0.9736 - val_loss: 0.8823 - val_accuracy: 0.7676\n",
            "Epoch 8/10\n",
            "625/625 [==============================] - 48s 77ms/step - loss: 0.0415 - accuracy: 0.9858 - val_loss: 1.1749 - val_accuracy: 0.7712\n",
            "Epoch 9/10\n",
            "625/625 [==============================] - 48s 76ms/step - loss: 0.0469 - accuracy: 0.9840 - val_loss: 1.2918 - val_accuracy: 0.7752\n",
            "Epoch 10/10\n",
            "625/625 [==============================] - 51s 81ms/step - loss: 0.0398 - accuracy: 0.9872 - val_loss: 1.3187 - val_accuracy: 0.7734\n"
          ]
        }
      ]
    },
    {
      "cell_type": "code",
      "source": [
        "import matplotlib.pyplot as plt\n",
        "\n",
        "plt.plot(history.history['accuracy'],color='red', label='train')\n",
        "plt.plot(history.history['val_accuracy'],color='blue', label='validation')\n",
        "plt.legend()\n",
        "plt.show()\n"
      ],
      "metadata": {
        "colab": {
          "base_uri": "https://localhost:8080/",
          "height": 431
        },
        "id": "1-y0c1TE60q6",
        "outputId": "b52fd307-bbcc-4ab9-9337-ea70fdbc63c2"
      },
      "execution_count": 16,
      "outputs": [
        {
          "output_type": "display_data",
          "data": {
            "text/plain": [
              "<Figure size 640x480 with 1 Axes>"
            ],
            "image/png": "[encoded data removed]"
          },
          "metadata": {}
        }
      ]
    },
    {
      "cell_type": "code",
      "source": [
        "plt.plot(history.history['loss'],color='red', label='train')\n",
        "plt.plot(history.history['val_loss'],color='blue', label='validation')\n",
        "plt.legend()\n",
        "plt.show()"
      ],
      "metadata": {
        "colab": {
          "base_uri": "https://localhost:8080/",
          "height": 430
        },
        "id": "r7o1qcgWVxD5",
        "outputId": "65c97dc6-fd39-4b19-a559-e2cc3d1df0aa"
      },
      "execution_count": 17,
      "outputs": [
        {
          "output_type": "display_data",
          "data": {
            "text/plain": [
              "<Figure size 640x480 with 1 Axes>"
            ],
            "image/png": "[encoded data removed]"
          },
          "metadata": {}
        }
      ]
    },
    {
      "cell_type": "code",
      "source": [],
      "metadata": {
        "id": "aPpHlmsHWZz3"
      },
      "execution_count": null,
      "outputs": []
    }
  ]
}